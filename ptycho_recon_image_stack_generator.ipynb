{
 "cells": [
  {
   "cell_type": "markdown",
   "metadata": {},
   "source": [
    "# Generate image stacks of ptycho reconstruction results and put them in one folder"
   ]
  },
  {
   "cell_type": "code",
   "execution_count": null,
   "metadata": {},
   "outputs": [],
   "source": [
    "# Import packages\n",
    "\n",
    "from tifffile import imread, imsave\n",
    "import os\n",
    "import numpy as np\n",
    "import matplotlib.pyplot as plt"
   ]
  },
  {
   "cell_type": "code",
   "execution_count": null,
   "metadata": {},
   "outputs": [],
   "source": [
    "def getFilename(path, extension):\n",
    "    '''\n",
    "    This function go through the folder and return a list of filenames with given extension\n",
    "    '''\n",
    "    f_list = os.listdir(path)\n",
    "    file_list=[]\n",
    "    # print f_list\n",
    "    for i in f_list:    \n",
    "        if os.path.splitext(i)[1] == extension:\n",
    "            file_list.append(os.path.splitext(i)[0])\n",
    "    return file_list"
   ]
  },
  {
   "cell_type": "code",
   "execution_count": null,
   "metadata": {},
   "outputs": [],
   "source": [
    "work_dir = \"D:/Box Sync/00_Sample_Data/WSe2/20221108_TEM_ThemisZ_80kV_WSe2_16_EMPAD/\" # The path to all the EMPAD data folders\n",
    "output_dir = work_dir + \"/Ptycho_recon_outputs/\"\n",
    "stacks_dir = output_dir + \"/imstacks/\"\n",
    "extension = '.tiff'\n",
    "if os.path.exists(output_dir)==False:\n",
    "        os.mkdir(output_dir)\n",
    "        os.mkdir(stacks_dir)\n",
    "        print(output_dir +  'and imstacks folders have been built!')\n",
    "\n",
    "folder_list = next(os.walk(work_dir))[1]\n",
    "folder_list"
   ]
  },
  {
   "cell_type": "code",
   "execution_count": null,
   "metadata": {},
   "outputs": [],
   "source": [
    "# Walk through all folders\n",
    "obj_phase_roi_folder_list = []\n",
    "probe_folder_list = []\n",
    "probe_mag_folder_list = []\n",
    "processed_folder_list=[]\n",
    "\n",
    "for empad_folder in folder_list:\n",
    "    folder_count = len(next(os.walk(work_dir+empad_folder))[1])\n",
    "    \n",
    "    # Only process the ones with recon folders (scan_number)\n",
    "    if folder_count != 0:\n",
    "        processed_folder_list.append(empad_folder)\n",
    "        for dirpath, dnames, fnames in os.walk(work_dir+empad_folder):\n",
    "            for dname in dnames:\n",
    "                if dname == 'obj_phase_roi':\n",
    "                    obj_phase_roi_folder_list.append(os.path.join(dirpath,dname))\n",
    "                elif dname == 'probe':\n",
    "                    probe_folder_list.append(os.path.join(dirpath,dname))\n",
    "                elif dname == 'probe_mag':\n",
    "                    probe_mag_folder_list.append(os.path.join(dirpath,dname))\n",
    "\n",
    "print(\"\\n%s folder would be processed!\" %(len(processed_folder_list)))\n",
    "processed_folder_list\n",
    "\n"
   ]
  },
  {
   "cell_type": "code",
   "execution_count": null,
   "metadata": {},
   "outputs": [],
   "source": [
    "# Run imread, imsave to generate the stacks\n",
    "\n",
    "for path in obj_phase_roi_folder_list:\n",
    "    imstack = []\n",
    "    os.chdir(path)\n",
    "    file_name_list = getFilename(path, extension)\n",
    "    file_name_list.sort(key=lambda x: '{0:0>25}'.format(x).lower()) \n",
    "    # Fast way to do natural sort with numbers at the end. \n",
    "    # Convert the string to zeros and substitute the end with the original string\n",
    "    for file_name in file_name_list:\n",
    "        img = imread(file_name + extension)\n",
    "        imstack.append(img)\n",
    "    stack_name = \"obj_phase_roi_\" + path.replace(work_dir, \"\").replace('\\\\', '_').replace('obj_phase_roi',\"\") + \"stack.tif\"\n",
    "    imsave(stacks_dir + stack_name, np.uint16(imstack))\n",
    "    last_iter_name = \"obj_phase_roi_\" + path.replace(work_dir, \"\").replace('\\\\', '_').replace('obj_phase_roi',\"\") + file_name.split(\"_\")[3]+ \".tif\"\n",
    "    imsave(output_dir + last_iter_name, np.uint16(imstack[-1]))\n",
    "    print (\"%s has been saved!\" %last_iter_name)\n",
    "    print (\"%s has been saved!\" %stack_name)\n",
    "    \n",
    "print(\"\\nSuccessfully saved %s image stacks!\" %(len(obj_phase_roi_folder_list)))"
   ]
  },
  {
   "cell_type": "code",
   "execution_count": null,
   "metadata": {},
   "outputs": [],
   "source": [
    "for path in probe_folder_list:\n",
    "    imstack = []\n",
    "    os.chdir(path)\n",
    "    file_name_list = getFilename(path, extension)\n",
    "    file_name_list.sort(key=lambda x: '{0:0>25}'.format(x).lower()) \n",
    "    # Fast way to do natural sort with numbers at the end. \n",
    "    # Convert the string to zeros and substitute the end with the original string\n",
    "    for file_name in file_name_list:\n",
    "        img = imread(file_name + extension)\n",
    "        imstack.append(img)\n",
    "    stack_name = \"probe_\" + path.replace(work_dir, \"\").replace('\\\\', '_').replace('probe',\"\") + \"stack.tif\"\n",
    "    imsave(stacks_dir + stack_name, np.uint8(imstack))\n",
    "    print (\"%s has been saved!\" %stack_name)\n",
    "    \n",
    "print(\"\\nSuccessfully saved %s image stacks!\" %(len(probe_folder_list)))"
   ]
  },
  {
   "cell_type": "code",
   "execution_count": null,
   "metadata": {},
   "outputs": [],
   "source": [
    "# Not really useful. \n",
    "# The matlab generated ones have a tiff metadata tag specifying the LUT but these probe_mag images are rarely examined anyway\n",
    "'''\n",
    "for path in probe_mag_folder_list:\n",
    "    imstack = []\n",
    "    os.chdir(path)\n",
    "    file_name_list = getFilename(path, extension)\n",
    "    file_name_list.sort(key=lambda x: '{0:0>25}'.format(x).lower()) \n",
    "    # Fast way to do natural sort with numbers at the end. \n",
    "    # Convert the string to zeros and substitute the end with the original string\n",
    "    for file_name in file_name_list:\n",
    "        img = imread(file_name + extension)\n",
    "        imstack.append(img)\n",
    "    stack_name = path.replace(work_dir, \"\").replace('\\\\', '_').replace('probe_mag',\"\") + \"stack.tif\"\n",
    "    stack_name = \"probe_mag_\" + stack_name   \n",
    "    imsave(stacks + stack_name, np.uint8(imstack))\n",
    "    print (\"%s has been saved!\" %stack_name)\n",
    "\n",
    "print(\"\\nSuccessfully saved %s image stacks!\" %(len(probe_mag_folder_list)))\n",
    "'''"
   ]
  }
 ],
 "metadata": {
  "kernelspec": {
   "display_name": "Python 3.8.5 ('base')",
   "language": "python",
   "name": "python3"
  },
  "language_info": {
   "codemirror_mode": {
    "name": "ipython",
    "version": 3
   },
   "file_extension": ".py",
   "mimetype": "text/x-python",
   "name": "python",
   "nbconvert_exporter": "python",
   "pygments_lexer": "ipython3",
   "version": "3.8.5"
  },
  "vscode": {
   "interpreter": {
    "hash": "2b197f88030c173239ae01c6271e3c87ddfc4d203fffd47687f246e8a8653676"
   }
  }
 },
 "nbformat": 4,
 "nbformat_minor": 4
}
